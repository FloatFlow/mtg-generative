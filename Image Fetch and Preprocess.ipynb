{
 "cells": [
  {
   "cell_type": "code",
   "execution_count": 128,
   "metadata": {},
   "outputs": [],
   "source": [
    "import pandas as pd\n",
    "import numpy as np\n",
    "import requests\n",
    "from tqdm import tqdm, tqdm_notebook\n",
    "import os\n",
    "import time\n",
    "import glob\n",
    "import shutil\n",
    "import os\n",
    "import random\n",
    "from PIL import Image\n",
    "import cv2\n",
    "import PythonMagick"
   ]
  },
  {
   "cell_type": "code",
   "execution_count": 166,
   "metadata": {},
   "outputs": [
    {
     "data": {
      "text/html": [
       "<div>\n",
       "<style scoped>\n",
       "    .dataframe tbody tr th:only-of-type {\n",
       "        vertical-align: middle;\n",
       "    }\n",
       "\n",
       "    .dataframe tbody tr th {\n",
       "        vertical-align: top;\n",
       "    }\n",
       "\n",
       "    .dataframe thead th {\n",
       "        text-align: right;\n",
       "    }\n",
       "</style>\n",
       "<table border=\"1\" class=\"dataframe\">\n",
       "  <thead>\n",
       "    <tr style=\"text-align: right;\">\n",
       "      <th></th>\n",
       "      <th>all_parts</th>\n",
       "      <th>arena_id</th>\n",
       "      <th>artist</th>\n",
       "      <th>border_color</th>\n",
       "      <th>card_faces</th>\n",
       "      <th>cmc</th>\n",
       "      <th>collector_number</th>\n",
       "      <th>color_identity</th>\n",
       "      <th>color_indicator</th>\n",
       "      <th>colors</th>\n",
       "      <th>...</th>\n",
       "      <th>set</th>\n",
       "      <th>set_name</th>\n",
       "      <th>set_search_uri</th>\n",
       "      <th>set_uri</th>\n",
       "      <th>story_spotlight</th>\n",
       "      <th>tcgplayer_id</th>\n",
       "      <th>toughness</th>\n",
       "      <th>type_line</th>\n",
       "      <th>uri</th>\n",
       "      <th>watermark</th>\n",
       "    </tr>\n",
       "  </thead>\n",
       "  <tbody>\n",
       "    <tr>\n",
       "      <th>0</th>\n",
       "      <td>NaN</td>\n",
       "      <td>NaN</td>\n",
       "      <td>Terese Nielsen</td>\n",
       "      <td>white</td>\n",
       "      <td>NaN</td>\n",
       "      <td>3.0</td>\n",
       "      <td>319</td>\n",
       "      <td>[]</td>\n",
       "      <td>NaN</td>\n",
       "      <td>[]</td>\n",
       "      <td>...</td>\n",
       "      <td>7ed</td>\n",
       "      <td>Seventh Edition</td>\n",
       "      <td>https://api.scryfall.com/cards/search?order=se...</td>\n",
       "      <td>https://api.scryfall.com/sets/230f38aa-9511-4d...</td>\n",
       "      <td>False</td>\n",
       "      <td>3094.0</td>\n",
       "      <td>NaN</td>\n",
       "      <td>Artifact</td>\n",
       "      <td>https://api.scryfall.com/cards/86bf43b1-8d4e-4...</td>\n",
       "      <td>NaN</td>\n",
       "    </tr>\n",
       "    <tr>\n",
       "      <th>1</th>\n",
       "      <td>NaN</td>\n",
       "      <td>NaN</td>\n",
       "      <td>Steven Belledin</td>\n",
       "      <td>black</td>\n",
       "      <td>NaN</td>\n",
       "      <td>1.0</td>\n",
       "      <td>71</td>\n",
       "      <td>[U]</td>\n",
       "      <td>NaN</td>\n",
       "      <td>[U]</td>\n",
       "      <td>...</td>\n",
       "      <td>m14</td>\n",
       "      <td>Magic 2014</td>\n",
       "      <td>https://api.scryfall.com/cards/search?order=se...</td>\n",
       "      <td>https://api.scryfall.com/sets/e03ee1c0-ecd2-4f...</td>\n",
       "      <td>False</td>\n",
       "      <td>69965.0</td>\n",
       "      <td>NaN</td>\n",
       "      <td>Enchantment â€” Aura</td>\n",
       "      <td>https://api.scryfall.com/cards/7050735c-b232-4...</td>\n",
       "      <td>NaN</td>\n",
       "    </tr>\n",
       "    <tr>\n",
       "      <th>2</th>\n",
       "      <td>NaN</td>\n",
       "      <td>NaN</td>\n",
       "      <td>John Matson</td>\n",
       "      <td>white</td>\n",
       "      <td>NaN</td>\n",
       "      <td>2.0</td>\n",
       "      <td>100</td>\n",
       "      <td>[U]</td>\n",
       "      <td>NaN</td>\n",
       "      <td>[U]</td>\n",
       "      <td>...</td>\n",
       "      <td>9ed</td>\n",
       "      <td>Ninth Edition</td>\n",
       "      <td>https://api.scryfall.com/cards/search?order=se...</td>\n",
       "      <td>https://api.scryfall.com/sets/e70c8572-4732-4e...</td>\n",
       "      <td>False</td>\n",
       "      <td>12835.0</td>\n",
       "      <td>2</td>\n",
       "      <td>Creature â€” Bird</td>\n",
       "      <td>https://api.scryfall.com/cards/036ef8c9-72ac-4...</td>\n",
       "      <td>NaN</td>\n",
       "    </tr>\n",
       "    <tr>\n",
       "      <th>3</th>\n",
       "      <td>NaN</td>\n",
       "      <td>NaN</td>\n",
       "      <td>Ron Spencer</td>\n",
       "      <td>black</td>\n",
       "      <td>NaN</td>\n",
       "      <td>2.0</td>\n",
       "      <td>47</td>\n",
       "      <td>[U]</td>\n",
       "      <td>NaN</td>\n",
       "      <td>[U]</td>\n",
       "      <td>...</td>\n",
       "      <td>ulg</td>\n",
       "      <td>Urza's Legacy</td>\n",
       "      <td>https://api.scryfall.com/cards/search?order=se...</td>\n",
       "      <td>https://api.scryfall.com/sets/78ced61b-4b8a-4b...</td>\n",
       "      <td>False</td>\n",
       "      <td>6412.0</td>\n",
       "      <td>1</td>\n",
       "      <td>Creature â€” Sponge</td>\n",
       "      <td>https://api.scryfall.com/cards/b125d1e7-5d9b-4...</td>\n",
       "      <td>NaN</td>\n",
       "    </tr>\n",
       "    <tr>\n",
       "      <th>4</th>\n",
       "      <td>NaN</td>\n",
       "      <td>NaN</td>\n",
       "      <td>Thomas M. Baxa</td>\n",
       "      <td>black</td>\n",
       "      <td>NaN</td>\n",
       "      <td>5.0</td>\n",
       "      <td>107</td>\n",
       "      <td>[R]</td>\n",
       "      <td>NaN</td>\n",
       "      <td>[R]</td>\n",
       "      <td>...</td>\n",
       "      <td>scg</td>\n",
       "      <td>Scourge</td>\n",
       "      <td>https://api.scryfall.com/cards/search?order=se...</td>\n",
       "      <td>https://api.scryfall.com/sets/5133c3a1-1412-4c...</td>\n",
       "      <td>False</td>\n",
       "      <td>10927.0</td>\n",
       "      <td>NaN</td>\n",
       "      <td>Sorcery</td>\n",
       "      <td>https://api.scryfall.com/cards/feeee859-f64a-4...</td>\n",
       "      <td>NaN</td>\n",
       "    </tr>\n",
       "  </tbody>\n",
       "</table>\n",
       "<p>5 rows × 59 columns</p>\n",
       "</div>"
      ],
      "text/plain": [
       "  all_parts  arena_id           artist border_color card_faces  cmc  \\\n",
       "0       NaN       NaN   Terese Nielsen        white        NaN  3.0   \n",
       "1       NaN       NaN  Steven Belledin        black        NaN  1.0   \n",
       "2       NaN       NaN      John Matson        white        NaN  2.0   \n",
       "3       NaN       NaN      Ron Spencer        black        NaN  2.0   \n",
       "4       NaN       NaN   Thomas M. Baxa        black        NaN  5.0   \n",
       "\n",
       "  collector_number color_identity color_indicator colors    ...      set  \\\n",
       "0              319             []             NaN     []    ...      7ed   \n",
       "1               71            [U]             NaN    [U]    ...      m14   \n",
       "2              100            [U]             NaN    [U]    ...      9ed   \n",
       "3               47            [U]             NaN    [U]    ...      ulg   \n",
       "4              107            [R]             NaN    [R]    ...      scg   \n",
       "\n",
       "          set_name                                     set_search_uri  \\\n",
       "0  Seventh Edition  https://api.scryfall.com/cards/search?order=se...   \n",
       "1       Magic 2014  https://api.scryfall.com/cards/search?order=se...   \n",
       "2    Ninth Edition  https://api.scryfall.com/cards/search?order=se...   \n",
       "3    Urza's Legacy  https://api.scryfall.com/cards/search?order=se...   \n",
       "4          Scourge  https://api.scryfall.com/cards/search?order=se...   \n",
       "\n",
       "                                             set_uri story_spotlight  \\\n",
       "0  https://api.scryfall.com/sets/230f38aa-9511-4d...           False   \n",
       "1  https://api.scryfall.com/sets/e03ee1c0-ecd2-4f...           False   \n",
       "2  https://api.scryfall.com/sets/e70c8572-4732-4e...           False   \n",
       "3  https://api.scryfall.com/sets/78ced61b-4b8a-4b...           False   \n",
       "4  https://api.scryfall.com/sets/5133c3a1-1412-4c...           False   \n",
       "\n",
       "  tcgplayer_id  toughness             type_line  \\\n",
       "0       3094.0        NaN              Artifact   \n",
       "1      69965.0        NaN  Enchantment â€” Aura   \n",
       "2      12835.0          2     Creature â€” Bird   \n",
       "3       6412.0          1   Creature â€” Sponge   \n",
       "4      10927.0        NaN               Sorcery   \n",
       "\n",
       "                                                 uri  watermark  \n",
       "0  https://api.scryfall.com/cards/86bf43b1-8d4e-4...        NaN  \n",
       "1  https://api.scryfall.com/cards/7050735c-b232-4...        NaN  \n",
       "2  https://api.scryfall.com/cards/036ef8c9-72ac-4...        NaN  \n",
       "3  https://api.scryfall.com/cards/b125d1e7-5d9b-4...        NaN  \n",
       "4  https://api.scryfall.com/cards/feeee859-f64a-4...        NaN  \n",
       "\n",
       "[5 rows x 59 columns]"
      ]
     },
     "execution_count": 166,
     "metadata": {},
     "output_type": "execute_result"
    }
   ],
   "source": [
    "df = pd.read_json('scryfall-oracle-cards.json')\n",
    "df.head()"
   ]
  },
  {
   "cell_type": "code",
   "execution_count": 167,
   "metadata": {},
   "outputs": [
    {
     "name": "stdout",
     "output_type": "stream",
     "text": [
      "(19607, 59)\n"
     ]
    }
   ],
   "source": [
    "print(df.shape)\n",
    "#df.drop_duplicates(subset='oracle_id', inplace=True)\n",
    "#print(df.shape)"
   ]
  },
  {
   "cell_type": "code",
   "execution_count": 168,
   "metadata": {},
   "outputs": [
    {
     "name": "stdout",
     "output_type": "stream",
     "text": [
      "Index(['all_parts', 'arena_id', 'artist', 'border_color', 'card_faces', 'cmc',\n",
      "       'collector_number', 'color_identity', 'color_indicator', 'colors',\n",
      "       'digital', 'edhrec_rank', 'flavor_text', 'foil', 'frame',\n",
      "       'frame_effect', 'full_art', 'games', 'hand_modifier', 'highres_image',\n",
      "       'id', 'illustration_id', 'image_uris', 'lang', 'layout', 'legalities',\n",
      "       'life_modifier', 'loyalty', 'mana_cost', 'mtgo_foil_id', 'mtgo_id',\n",
      "       'multiverse_ids', 'name', 'nonfoil', 'object', 'oracle_id',\n",
      "       'oracle_text', 'oversized', 'power', 'prints_search_uri', 'promo',\n",
      "       'rarity', 'related_uris', 'released_at', 'reprint', 'reserved',\n",
      "       'rulings_uri', 'scryfall_set_uri', 'scryfall_uri', 'set', 'set_name',\n",
      "       'set_search_uri', 'set_uri', 'story_spotlight', 'tcgplayer_id',\n",
      "       'toughness', 'type_line', 'uri', 'watermark'],\n",
      "      dtype='object')\n"
     ]
    }
   ],
   "source": [
    "print(df.columns)"
   ]
  },
  {
   "cell_type": "code",
   "execution_count": 169,
   "metadata": {},
   "outputs": [
    {
     "name": "stdout",
     "output_type": "stream",
     "text": [
      "19607\n",
      "19607\n",
      "['https://img.scryfall.com/cards/art_crop/en/7ed/319.jpg?1517813031', 'https://img.scryfall.com/cards/art_crop/en/m14/71.jpg?1517813031', 'https://img.scryfall.com/cards/art_crop/en/9ed/100.jpg?1517813031', 'https://img.scryfall.com/cards/art_crop/en/ulg/47.jpg?1517813031', 'https://img.scryfall.com/cards/art_crop/en/scg/107.jpg?1517813031', 'https://img.scryfall.com/cards/art_crop/en/me1/139.jpg?1535856219', 'https://img.scryfall.com/cards/art_crop/front/2/8/280f2a85-1900-460b-a768-164fc2dea636.jpg?1549414102', 'https://img.scryfall.com/cards/art_crop/en/ody/254.jpg?1517813031', 'https://img.scryfall.com/cards/art_crop/en/arb/104.jpg?1517813031', 'https://img.scryfall.com/cards/art_crop/en/m19/311.jpg?1531860983']\n"
     ]
    }
   ],
   "source": [
    "url_list = [jsd for jsd in df['image_uris'].values]\n",
    "#print(url_list[0])\n",
    "http_list = []\n",
    "for url in url_list:\n",
    "    try:\n",
    "        http_list.append(url.get('art_crop'))\n",
    "    except:\n",
    "        http_list.append(np.nan)\n",
    "print(len(url_list))\n",
    "print(len(http_list))\n",
    "print(http_list[:10])"
   ]
  },
  {
   "cell_type": "code",
   "execution_count": 170,
   "metadata": {},
   "outputs": [
    {
     "name": "stderr",
     "output_type": "stream",
     "text": [
      "C:\\Users\\Wolfgang\\Anaconda3\\lib\\site-packages\\ipykernel_launcher.py:2: SettingWithCopyWarning: \n",
      "A value is trying to be set on a copy of a slice from a DataFrame.\n",
      "Try using .loc[row_indexer,col_indexer] = value instead\n",
      "\n",
      "See the caveats in the documentation: http://pandas.pydata.org/pandas-docs/stable/indexing.html#indexing-view-versus-copy\n",
      "  \n",
      "C:\\Users\\Wolfgang\\Anaconda3\\lib\\site-packages\\ipykernel_launcher.py:3: SettingWithCopyWarning: \n",
      "A value is trying to be set on a copy of a slice from a DataFrame\n",
      "\n",
      "See the caveats in the documentation: http://pandas.pydata.org/pandas-docs/stable/indexing.html#indexing-view-versus-copy\n",
      "  This is separate from the ipykernel package so we can avoid doing imports until\n",
      "C:\\Users\\Wolfgang\\Anaconda3\\lib\\site-packages\\ipykernel_launcher.py:4: SettingWithCopyWarning: \n",
      "A value is trying to be set on a copy of a slice from a DataFrame.\n",
      "Try using .loc[row_indexer,col_indexer] = value instead\n",
      "\n",
      "See the caveats in the documentation: http://pandas.pydata.org/pandas-docs/stable/indexing.html#indexing-view-versus-copy\n",
      "  after removing the cwd from sys.path.\n"
     ]
    },
    {
     "name": "stdout",
     "output_type": "stream",
     "text": [
      "(19469, 4)\n"
     ]
    },
    {
     "data": {
      "text/html": [
       "<div>\n",
       "<style scoped>\n",
       "    .dataframe tbody tr th:only-of-type {\n",
       "        vertical-align: middle;\n",
       "    }\n",
       "\n",
       "    .dataframe tbody tr th {\n",
       "        vertical-align: top;\n",
       "    }\n",
       "\n",
       "    .dataframe thead th {\n",
       "        text-align: right;\n",
       "    }\n",
       "</style>\n",
       "<table border=\"1\" class=\"dataframe\">\n",
       "  <thead>\n",
       "    <tr style=\"text-align: right;\">\n",
       "      <th></th>\n",
       "      <th>color_identity</th>\n",
       "      <th>oracle_id</th>\n",
       "      <th>url</th>\n",
       "      <th>id</th>\n",
       "    </tr>\n",
       "  </thead>\n",
       "  <tbody>\n",
       "    <tr>\n",
       "      <th>19602</th>\n",
       "      <td>[W]</td>\n",
       "      <td>fff6f2d0-22b5-41d0-99dc-bc817c3bd166</td>\n",
       "      <td>https://img.scryfall.com/cards/art_crop/en/s99...</td>\n",
       "      <td>1517813031</td>\n",
       "    </tr>\n",
       "    <tr>\n",
       "      <th>19603</th>\n",
       "      <td>[B]</td>\n",
       "      <td>fffa9334-3576-4f70-9605-2ad062cdbc69</td>\n",
       "      <td>https://img.scryfall.com/cards/art_crop/en/hou...</td>\n",
       "      <td>1517813031</td>\n",
       "    </tr>\n",
       "    <tr>\n",
       "      <th>19604</th>\n",
       "      <td>[R, W]</td>\n",
       "      <td>fffaa634-42a0-4038-b027-24f28754fec7</td>\n",
       "      <td>https://img.scryfall.com/cards/art_crop/en/dom...</td>\n",
       "      <td>1535147949</td>\n",
       "    </tr>\n",
       "    <tr>\n",
       "      <th>19605</th>\n",
       "      <td>[G, R]</td>\n",
       "      <td>fffdc2ac-bde4-4e4c-a5bd-0e6c6e49ad91</td>\n",
       "      <td>https://img.scryfall.com/cards/art_crop/en/hou...</td>\n",
       "      <td>1517813031</td>\n",
       "    </tr>\n",
       "    <tr>\n",
       "      <th>19606</th>\n",
       "      <td>[W]</td>\n",
       "      <td>ffff90c3-63c4-4dee-a21d-6b2b113f4f80</td>\n",
       "      <td>https://img.scryfall.com/cards/art_crop/en/plc...</td>\n",
       "      <td>1517813031</td>\n",
       "    </tr>\n",
       "  </tbody>\n",
       "</table>\n",
       "</div>"
      ],
      "text/plain": [
       "      color_identity                             oracle_id  \\\n",
       "19602            [W]  fff6f2d0-22b5-41d0-99dc-bc817c3bd166   \n",
       "19603            [B]  fffa9334-3576-4f70-9605-2ad062cdbc69   \n",
       "19604         [R, W]  fffaa634-42a0-4038-b027-24f28754fec7   \n",
       "19605         [G, R]  fffdc2ac-bde4-4e4c-a5bd-0e6c6e49ad91   \n",
       "19606            [W]  ffff90c3-63c4-4dee-a21d-6b2b113f4f80   \n",
       "\n",
       "                                                     url          id  \n",
       "19602  https://img.scryfall.com/cards/art_crop/en/s99...  1517813031  \n",
       "19603  https://img.scryfall.com/cards/art_crop/en/hou...  1517813031  \n",
       "19604  https://img.scryfall.com/cards/art_crop/en/dom...  1535147949  \n",
       "19605  https://img.scryfall.com/cards/art_crop/en/hou...  1517813031  \n",
       "19606  https://img.scryfall.com/cards/art_crop/en/plc...  1517813031  "
      ]
     },
     "execution_count": 170,
     "metadata": {},
     "output_type": "execute_result"
    }
   ],
   "source": [
    "query_df = df[['color_identity', 'oracle_id']]\n",
    "query_df['url'] = http_list\n",
    "query_df.dropna(inplace=True)\n",
    "query_df['id'] = [str(image_url.split('?')[-1]) for image_url in query_df['url']]\n",
    "print(query_df.shape)\n",
    "query_df.tail()"
   ]
  },
  {
   "cell_type": "code",
   "execution_count": 171,
   "metadata": {},
   "outputs": [
    {
     "name": "stdout",
     "output_type": "stream",
     "text": [
      "https://img.scryfall.com/cards/art_crop/en/ons/233.jpg?1517813031\n"
     ]
    }
   ],
   "source": [
    "print(query_df['url'].iloc[2000])"
   ]
  },
  {
   "cell_type": "code",
   "execution_count": 172,
   "metadata": {},
   "outputs": [
    {
     "name": "stdout",
     "output_type": "stream",
     "text": [
      "Series([], Name: url, dtype: object)\n"
     ]
    }
   ],
   "source": [
    "print(query_df['url'].loc[query_df['id'] == '1551144270'])"
   ]
  },
  {
   "cell_type": "code",
   "execution_count": 173,
   "metadata": {},
   "outputs": [
    {
     "name": "stderr",
     "output_type": "stream",
     "text": [
      "C:\\Users\\Wolfgang\\Anaconda3\\lib\\site-packages\\ipykernel_launcher.py:1: SettingWithCopyWarning: \n",
      "A value is trying to be set on a copy of a slice from a DataFrame.\n",
      "Try using .loc[row_indexer,col_indexer] = value instead\n",
      "\n",
      "See the caveats in the documentation: http://pandas.pydata.org/pandas-docs/stable/indexing.html#indexing-view-versus-copy\n",
      "  \"\"\"Entry point for launching an IPython kernel.\n"
     ]
    },
    {
     "name": "stdout",
     "output_type": "stream",
     "text": [
      "(19469, 5)\n"
     ]
    },
    {
     "data": {
      "text/html": [
       "<div>\n",
       "<style scoped>\n",
       "    .dataframe tbody tr th:only-of-type {\n",
       "        vertical-align: middle;\n",
       "    }\n",
       "\n",
       "    .dataframe tbody tr th {\n",
       "        vertical-align: top;\n",
       "    }\n",
       "\n",
       "    .dataframe thead th {\n",
       "        text-align: right;\n",
       "    }\n",
       "</style>\n",
       "<table border=\"1\" class=\"dataframe\">\n",
       "  <thead>\n",
       "    <tr style=\"text-align: right;\">\n",
       "      <th></th>\n",
       "      <th>color_identity</th>\n",
       "      <th>oracle_id</th>\n",
       "      <th>url</th>\n",
       "      <th>id</th>\n",
       "      <th>filename</th>\n",
       "    </tr>\n",
       "  </thead>\n",
       "  <tbody>\n",
       "    <tr>\n",
       "      <th>0</th>\n",
       "      <td>[]</td>\n",
       "      <td>0004ebd0-dfd6-4276-b4a6-de0003e94237</td>\n",
       "      <td>https://img.scryfall.com/cards/art_crop/en/7ed...</td>\n",
       "      <td>1517813031</td>\n",
       "      <td>0004ebd0-dfd6-4276-b4a6-de0003e94237_151781303...</td>\n",
       "    </tr>\n",
       "    <tr>\n",
       "      <th>1</th>\n",
       "      <td>[U]</td>\n",
       "      <td>0006faf6-7a61-426c-9034-579f2cfcfa83</td>\n",
       "      <td>https://img.scryfall.com/cards/art_crop/en/m14...</td>\n",
       "      <td>1517813031</td>\n",
       "      <td>0006faf6-7a61-426c-9034-579f2cfcfa83_151781303...</td>\n",
       "    </tr>\n",
       "    <tr>\n",
       "      <th>2</th>\n",
       "      <td>[U]</td>\n",
       "      <td>000d5588-5a4c-434e-988d-396632ade42c</td>\n",
       "      <td>https://img.scryfall.com/cards/art_crop/en/9ed...</td>\n",
       "      <td>1517813031</td>\n",
       "      <td>000d5588-5a4c-434e-988d-396632ade42c_151781303...</td>\n",
       "    </tr>\n",
       "    <tr>\n",
       "      <th>3</th>\n",
       "      <td>[U]</td>\n",
       "      <td>000e5d65-96c3-498b-bd01-72b1a1991850</td>\n",
       "      <td>https://img.scryfall.com/cards/art_crop/en/ulg...</td>\n",
       "      <td>1517813031</td>\n",
       "      <td>000e5d65-96c3-498b-bd01-72b1a1991850_151781303...</td>\n",
       "    </tr>\n",
       "    <tr>\n",
       "      <th>4</th>\n",
       "      <td>[R]</td>\n",
       "      <td>00181784-9213-492a-ba8c-2028969b049e</td>\n",
       "      <td>https://img.scryfall.com/cards/art_crop/en/scg...</td>\n",
       "      <td>1517813031</td>\n",
       "      <td>00181784-9213-492a-ba8c-2028969b049e_151781303...</td>\n",
       "    </tr>\n",
       "  </tbody>\n",
       "</table>\n",
       "</div>"
      ],
      "text/plain": [
       "  color_identity                             oracle_id  \\\n",
       "0             []  0004ebd0-dfd6-4276-b4a6-de0003e94237   \n",
       "1            [U]  0006faf6-7a61-426c-9034-579f2cfcfa83   \n",
       "2            [U]  000d5588-5a4c-434e-988d-396632ade42c   \n",
       "3            [U]  000e5d65-96c3-498b-bd01-72b1a1991850   \n",
       "4            [R]  00181784-9213-492a-ba8c-2028969b049e   \n",
       "\n",
       "                                                 url          id  \\\n",
       "0  https://img.scryfall.com/cards/art_crop/en/7ed...  1517813031   \n",
       "1  https://img.scryfall.com/cards/art_crop/en/m14...  1517813031   \n",
       "2  https://img.scryfall.com/cards/art_crop/en/9ed...  1517813031   \n",
       "3  https://img.scryfall.com/cards/art_crop/en/ulg...  1517813031   \n",
       "4  https://img.scryfall.com/cards/art_crop/en/scg...  1517813031   \n",
       "\n",
       "                                            filename  \n",
       "0  0004ebd0-dfd6-4276-b4a6-de0003e94237_151781303...  \n",
       "1  0006faf6-7a61-426c-9034-579f2cfcfa83_151781303...  \n",
       "2  000d5588-5a4c-434e-988d-396632ade42c_151781303...  \n",
       "3  000e5d65-96c3-498b-bd01-72b1a1991850_151781303...  \n",
       "4  00181784-9213-492a-ba8c-2028969b049e_151781303...  "
      ]
     },
     "execution_count": 173,
     "metadata": {},
     "output_type": "execute_result"
    }
   ],
   "source": [
    "query_df['filename'] = ['{}_{}_{}.jpg'.format(str(orid), str(cardid), color) for orid, cardid, color in zip(query_df['oracle_id'], query_df['id'], query_df['color_identity'])]\n",
    "\n",
    "'''\n",
    "print(query_df.head())\n",
    "current_files = os.listdir('images')\n",
    "print(current_files[:10])\n",
    "query_df = query_df.loc[query_df['filename'].isin(current_files)]\n",
    "'''\n",
    "print(query_df.shape)\n",
    "query_df.head()"
   ]
  },
  {
   "cell_type": "code",
   "execution_count": 174,
   "metadata": {},
   "outputs": [
    {
     "name": "stdout",
     "output_type": "stream",
     "text": [
      "19469\n"
     ]
    }
   ],
   "source": [
    "print(len(list(set(query_df['oracle_id']))))"
   ]
  },
  {
   "cell_type": "code",
   "execution_count": 175,
   "metadata": {},
   "outputs": [
    {
     "name": "stderr",
     "output_type": "stream",
     "text": [
      "C:\\Users\\Wolfgang\\Anaconda3\\lib\\site-packages\\ipykernel_launcher.py:1: SettingWithCopyWarning: \n",
      "A value is trying to be set on a copy of a slice from a DataFrame.\n",
      "Try using .loc[row_indexer,col_indexer] = value instead\n",
      "\n",
      "See the caveats in the documentation: http://pandas.pydata.org/pandas-docs/stable/indexing.html#indexing-view-versus-copy\n",
      "  \"\"\"Entry point for launching an IPython kernel.\n"
     ]
    },
    {
     "data": {
      "text/html": [
       "<div>\n",
       "<style scoped>\n",
       "    .dataframe tbody tr th:only-of-type {\n",
       "        vertical-align: middle;\n",
       "    }\n",
       "\n",
       "    .dataframe tbody tr th {\n",
       "        vertical-align: top;\n",
       "    }\n",
       "\n",
       "    .dataframe thead th {\n",
       "        text-align: right;\n",
       "    }\n",
       "</style>\n",
       "<table border=\"1\" class=\"dataframe\">\n",
       "  <thead>\n",
       "    <tr style=\"text-align: right;\">\n",
       "      <th></th>\n",
       "      <th>id</th>\n",
       "      <th>counter</th>\n",
       "    </tr>\n",
       "  </thead>\n",
       "  <tbody>\n",
       "    <tr>\n",
       "      <th>0</th>\n",
       "      <td>1517813031</td>\n",
       "      <td>13396</td>\n",
       "    </tr>\n",
       "    <tr>\n",
       "      <th>2573</th>\n",
       "      <td>1530592713</td>\n",
       "      <td>3</td>\n",
       "    </tr>\n",
       "    <tr>\n",
       "      <th>4205</th>\n",
       "      <td>1541002937</td>\n",
       "      <td>2</td>\n",
       "    </tr>\n",
       "    <tr>\n",
       "      <th>4185</th>\n",
       "      <td>1541002878</td>\n",
       "      <td>2</td>\n",
       "    </tr>\n",
       "    <tr>\n",
       "      <th>4181</th>\n",
       "      <td>1541002865</td>\n",
       "      <td>2</td>\n",
       "    </tr>\n",
       "  </tbody>\n",
       "</table>\n",
       "</div>"
      ],
      "text/plain": [
       "              id  counter\n",
       "0     1517813031    13396\n",
       "2573  1530592713        3\n",
       "4205  1541002937        2\n",
       "4185  1541002878        2\n",
       "4181  1541002865        2"
      ]
     },
     "execution_count": 175,
     "metadata": {},
     "output_type": "execute_result"
    }
   ],
   "source": [
    "query_df['counter'] = 1\n",
    "id_df = query_df['counter'].groupby(query_df['id']).sum().reset_index()\n",
    "id_df.sort_values('counter', ascending=False,inplace=True)\n",
    "id_df.head()"
   ]
  },
  {
   "cell_type": "code",
   "execution_count": 147,
   "metadata": {},
   "outputs": [
    {
     "data": {
      "text/plain": [
       "128026    https://img.scryfall.com/cards/art_crop/en/roe...\n",
       "130005    https://img.scryfall.com/cards/art_crop/en/wwk...\n",
       "Name: url, dtype: object"
      ]
     },
     "execution_count": 147,
     "metadata": {},
     "output_type": "execute_result"
    }
   ],
   "source": [
    "query_df['url'].loc[query_df['id'] == '1530592568']"
   ]
  },
  {
   "cell_type": "code",
   "execution_count": 177,
   "metadata": {},
   "outputs": [
    {
     "data": {
      "application/vnd.jupyter.widget-view+json": {
       "model_id": "ef6a50ef9c1a44a19ae28feffe4493d1",
       "version_major": 2,
       "version_minor": 0
      },
      "text/plain": [
       "HBox(children=(IntProgress(value=0, max=19469), HTML(value='')))"
      ]
     },
     "metadata": {},
     "output_type": "display_data"
    },
    {
     "name": "stdout",
     "output_type": "stream",
     "text": [
      "\n"
     ]
    },
    {
     "name": "stderr",
     "output_type": "stream",
     "text": [
      "\n",
      "\n",
      "\n",
      "\n",
      "\n",
      "\n",
      "\n",
      "\n",
      "\n",
      "\n",
      "\n",
      "\n",
      "\n",
      "\n",
      "\n",
      "\n",
      "\n",
      "\n",
      "\n",
      "\n",
      "\n",
      "\n",
      "\n",
      "\n",
      "\n",
      "\n",
      "\n",
      "\n",
      "\n",
      "\n",
      "\n",
      "\n",
      "\n",
      "\n",
      "\n",
      "\n",
      "\n",
      "\n",
      "\n",
      "\n",
      "\n",
      "\n",
      "\n",
      "\n",
      "\n",
      "\n",
      "\n",
      "\n",
      "\n",
      "Exception ignored in: <bound method tqdm.__del__ of  95%|█████████▌| 226000/237057 [36:34:01<24:02,  7.66it/s]>\n",
      "Traceback (most recent call last):\n",
      "  File \"C:\\Users\\Wolfgang\\Anaconda3\\lib\\site-packages\\tqdm\\_tqdm.py\", line 889, in __del__\n",
      "    self.close()\n",
      "  File \"C:\\Users\\Wolfgang\\Anaconda3\\lib\\site-packages\\tqdm\\_tqdm.py\", line 1095, in close\n",
      "    self._decr_instances(self)\n",
      "  File \"C:\\Users\\Wolfgang\\Anaconda3\\lib\\site-packages\\tqdm\\_tqdm.py\", line 454, in _decr_instances\n",
      "    cls.monitor.exit()\n",
      "  File \"C:\\Users\\Wolfgang\\Anaconda3\\lib\\site-packages\\tqdm\\_monitor.py\", line 52, in exit\n",
      "    self.join()\n",
      "  File \"C:\\Users\\Wolfgang\\Anaconda3\\lib\\threading.py\", line 1053, in join\n",
      "    raise RuntimeError(\"cannot join current thread\")\n",
      "RuntimeError: cannot join current thread\n"
     ]
    },
    {
     "name": "stdout",
     "output_type": "stream",
     "text": [
      "\n"
     ]
    }
   ],
   "source": [
    "dir_location = 'images'\n",
    "\n",
    "\n",
    "pbar = tqdm_notebook(total=len(query_df['url'].values))\n",
    "for i, image_url in enumerate(query_df['url'].values):\n",
    "    if i >= 3254: # incase we get booted we can restart from last image index\n",
    "        img_data = requests.get(image_url).content\n",
    "        filename = image_url.split('?')[-1]\n",
    "        color = query_df['color_identity'].iloc[i]\n",
    "        with open(os.path.join(dir_location, query_df['filename'].iloc[i]), 'wb') as handler:\n",
    "            handler.write(img_data)\n",
    "        time.sleep(0.1)\n",
    "    pbar.update()\n",
    "pbar.close()"
   ]
  },
  {
   "cell_type": "code",
   "execution_count": 129,
   "metadata": {},
   "outputs": [
    {
     "name": "stderr",
     "output_type": "stream",
     "text": [
      "\n",
      "\n",
      "\n",
      "\n",
      "\n",
      "\n",
      "\n",
      "\n",
      "\n",
      "\n",
      "\n",
      "\n",
      "  1%|          | 2212/186898 [02:01<2:30:49, 20.41it/s]"
     ]
    },
    {
     "name": "stdout",
     "output_type": "stream",
     "text": [
      "On File 0/186899:\n"
     ]
    },
    {
     "data": {
      "application/vnd.jupyter.widget-view+json": {
       "model_id": "f089f1088db34a039393d95a8b3bba6b",
       "version_major": 2,
       "version_minor": 0
      },
      "text/plain": [
       "HBox(children=(IntProgress(value=0, max=186898), HTML(value='')))"
      ]
     },
     "metadata": {},
     "output_type": "display_data"
    },
    {
     "ename": "KeyboardInterrupt",
     "evalue": "",
     "output_type": "error",
     "traceback": [
      "\u001b[1;31m---------------------------------------------------------------------------\u001b[0m",
      "\u001b[1;31mKeyboardInterrupt\u001b[0m                         Traceback (most recent call last)",
      "\u001b[1;32m<ipython-input-129-5222d1f2bb77>\u001b[0m in \u001b[0;36m<module>\u001b[1;34m()\u001b[0m\n\u001b[0;32m     16\u001b[0m     \u001b[0mpbar\u001b[0m \u001b[1;33m=\u001b[0m \u001b[0mtqdm_notebook\u001b[0m\u001b[1;33m(\u001b[0m\u001b[0mtotal\u001b[0m\u001b[1;33m=\u001b[0m\u001b[0mlen\u001b[0m\u001b[1;33m(\u001b[0m\u001b[0mrange\u001b[0m\u001b[1;33m(\u001b[0m\u001b[0mi\u001b[0m\u001b[1;33m+\u001b[0m\u001b[1;36m1\u001b[0m\u001b[1;33m,\u001b[0m \u001b[0mlen\u001b[0m\u001b[1;33m(\u001b[0m\u001b[0mfilelist\u001b[0m\u001b[1;33m)\u001b[0m\u001b[1;33m)\u001b[0m\u001b[1;33m)\u001b[0m\u001b[1;33m)\u001b[0m\u001b[1;33m\u001b[0m\u001b[0m\n\u001b[0;32m     17\u001b[0m     \u001b[1;32mfor\u001b[0m \u001b[0mj\u001b[0m \u001b[1;32min\u001b[0m \u001b[0mrange\u001b[0m\u001b[1;33m(\u001b[0m\u001b[0mi\u001b[0m\u001b[1;33m+\u001b[0m\u001b[1;36m1\u001b[0m\u001b[1;33m,\u001b[0m \u001b[0mlen\u001b[0m\u001b[1;33m(\u001b[0m\u001b[0mfilelist\u001b[0m\u001b[1;33m)\u001b[0m\u001b[1;33m)\u001b[0m\u001b[1;33m:\u001b[0m\u001b[1;33m\u001b[0m\u001b[0m\n\u001b[1;32m---> 18\u001b[1;33m         \u001b[0mnext_file\u001b[0m \u001b[1;33m=\u001b[0m \u001b[0mPythonMagick\u001b[0m\u001b[1;33m.\u001b[0m\u001b[0mImage\u001b[0m\u001b[1;33m(\u001b[0m\u001b[0mfilelist\u001b[0m\u001b[1;33m[\u001b[0m\u001b[0mj\u001b[0m\u001b[1;33m]\u001b[0m\u001b[1;33m)\u001b[0m\u001b[1;33m.\u001b[0m\u001b[0msignature\u001b[0m\u001b[1;33m(\u001b[0m\u001b[1;33m)\u001b[0m\u001b[1;33m\u001b[0m\u001b[0m\n\u001b[0m\u001b[0;32m     19\u001b[0m         \u001b[1;31m#if is_similar(this_file, next_file):\u001b[0m\u001b[1;33m\u001b[0m\u001b[1;33m\u001b[0m\u001b[0m\n\u001b[0;32m     20\u001b[0m         \u001b[1;32mif\u001b[0m \u001b[0mthis_file\u001b[0m \u001b[1;33m==\u001b[0m \u001b[0mnext_file\u001b[0m\u001b[1;33m:\u001b[0m\u001b[1;33m\u001b[0m\u001b[0m\n",
      "\u001b[1;31mKeyboardInterrupt\u001b[0m: "
     ]
    }
   ],
   "source": [
    "## searches for duplicates in the training dataset ##\n",
    "## using raster hashes~~~~~~ ##\n",
    "\n",
    "train_dir = 'images'\n",
    "duplicate_img_dir= 'duplicate_images'\n",
    "\n",
    "def is_similar(image1, image2):\n",
    "    return image1.shape == image2.shape and not(np.bitwise_xor(image1,image2).any())\n",
    "\n",
    "filelist = os.listdir(train_dir)\n",
    "filelist = [os.path.join(train_dir, f) for f in filelist]\n",
    "\n",
    "for i, file in enumerate(filelist):\n",
    "    print('On File {}/{}:'.format(i, len(filelist)))\n",
    "    this_file = PythonMagick.Image(file).signature()\n",
    "    pbar = tqdm_notebook(total=len(range(i+1, len(filelist))))\n",
    "    for j in range(i+1, len(filelist)):\n",
    "        next_file = PythonMagick.Image(filelist[j]).signature()\n",
    "        #if is_similar(this_file, next_file):\n",
    "        if this_file == next_file:\n",
    "            print('Similar file found: {}'.format(filelist[j]))\n",
    "            try:\n",
    "                os.rename(filelist[j], os.path.join(duplicate_img_dir, os.path.basename(filelist[j])))\n",
    "                print('Removal success: {}'.format(filelist[j]))\n",
    "            except WindowsError:\n",
    "                print('Removal Failure: {}'.format(filelist[j]))\n",
    "                try:\n",
    "                    os.remove(filelist[j])\n",
    "                    print('Deletion success: {}'.format(filelist[j]))\n",
    "                except WindowsError:\n",
    "                    print('Error deleting {}'.format(filelist[j]))\n",
    "            j -= 1\n",
    "        pbar.update()\n",
    "    pbar.close()"
   ]
  },
  {
   "cell_type": "code",
   "execution_count": 3,
   "metadata": {},
   "outputs": [
    {
     "ename": "IndexError",
     "evalue": "tuple index out of range",
     "output_type": "error",
     "traceback": [
      "\u001b[1;31m---------------------------------------------------------------------------\u001b[0m",
      "\u001b[1;31mIndexError\u001b[0m                                Traceback (most recent call last)",
      "\u001b[1;32m<ipython-input-3-5c10233e6ec1>\u001b[0m in \u001b[0;36m<module>\u001b[1;34m()\u001b[0m\n\u001b[0;32m      3\u001b[0m \u001b[0ma\u001b[0m \u001b[1;33m=\u001b[0m \u001b[0mnp\u001b[0m\u001b[1;33m.\u001b[0m\u001b[0mtranspose\u001b[0m\u001b[1;33m(\u001b[0m\u001b[0ma\u001b[0m\u001b[1;33m,\u001b[0m \u001b[1;33m(\u001b[0m\u001b[1;36m0\u001b[0m\u001b[1;33m,\u001b[0m\u001b[1;36m2\u001b[0m\u001b[1;33m,\u001b[0m\u001b[1;36m1\u001b[0m\u001b[1;33m)\u001b[0m\u001b[1;33m)\u001b[0m\u001b[1;33m\u001b[0m\u001b[0m\n\u001b[0;32m      4\u001b[0m \u001b[0mb\u001b[0m \u001b[1;33m=\u001b[0m \u001b[0mnp\u001b[0m\u001b[1;33m.\u001b[0m\u001b[0mrandom\u001b[0m\u001b[1;33m.\u001b[0m\u001b[0mnormal\u001b[0m\u001b[1;33m(\u001b[0m\u001b[0msize\u001b[0m\u001b[1;33m=\u001b[0m\u001b[1;33m(\u001b[0m\u001b[1;36m42\u001b[0m\u001b[1;33m,\u001b[0m \u001b[1;36m1024\u001b[0m\u001b[1;33m)\u001b[0m\u001b[1;33m)\u001b[0m\u001b[1;33m\u001b[0m\u001b[0m\n\u001b[1;32m----> 5\u001b[1;33m \u001b[0mr\u001b[0m \u001b[1;33m=\u001b[0m \u001b[0mnp\u001b[0m\u001b[1;33m.\u001b[0m\u001b[0mtensordot\u001b[0m\u001b[1;33m(\u001b[0m\u001b[0ma\u001b[0m\u001b[1;33m,\u001b[0m \u001b[0mb\u001b[0m\u001b[1;33m,\u001b[0m \u001b[1;33m[\u001b[0m\u001b[1;36m3\u001b[0m\u001b[1;33m,\u001b[0m \u001b[1;36m0\u001b[0m\u001b[1;33m]\u001b[0m\u001b[1;33m)\u001b[0m\u001b[1;33m\u001b[0m\u001b[0m\n\u001b[0m\u001b[0;32m      6\u001b[0m \u001b[0mprint\u001b[0m\u001b[1;33m(\u001b[0m\u001b[0mr\u001b[0m\u001b[1;33m.\u001b[0m\u001b[0mshape\u001b[0m\u001b[1;33m)\u001b[0m\u001b[1;33m\u001b[0m\u001b[0m\n",
      "\u001b[1;32m~\\Anaconda3\\lib\\site-packages\\numpy\\core\\numeric.py\u001b[0m in \u001b[0;36mtensordot\u001b[1;34m(a, b, axes)\u001b[0m\n\u001b[0;32m   1361\u001b[0m     \u001b[1;32melse\u001b[0m\u001b[1;33m:\u001b[0m\u001b[1;33m\u001b[0m\u001b[0m\n\u001b[0;32m   1362\u001b[0m         \u001b[1;32mfor\u001b[0m \u001b[0mk\u001b[0m \u001b[1;32min\u001b[0m \u001b[0mrange\u001b[0m\u001b[1;33m(\u001b[0m\u001b[0mna\u001b[0m\u001b[1;33m)\u001b[0m\u001b[1;33m:\u001b[0m\u001b[1;33m\u001b[0m\u001b[0m\n\u001b[1;32m-> 1363\u001b[1;33m             \u001b[1;32mif\u001b[0m \u001b[0mas_\u001b[0m\u001b[1;33m[\u001b[0m\u001b[0maxes_a\u001b[0m\u001b[1;33m[\u001b[0m\u001b[0mk\u001b[0m\u001b[1;33m]\u001b[0m\u001b[1;33m]\u001b[0m \u001b[1;33m!=\u001b[0m \u001b[0mbs\u001b[0m\u001b[1;33m[\u001b[0m\u001b[0maxes_b\u001b[0m\u001b[1;33m[\u001b[0m\u001b[0mk\u001b[0m\u001b[1;33m]\u001b[0m\u001b[1;33m]\u001b[0m\u001b[1;33m:\u001b[0m\u001b[1;33m\u001b[0m\u001b[0m\n\u001b[0m\u001b[0;32m   1364\u001b[0m                 \u001b[0mequal\u001b[0m \u001b[1;33m=\u001b[0m \u001b[1;32mFalse\u001b[0m\u001b[1;33m\u001b[0m\u001b[0m\n\u001b[0;32m   1365\u001b[0m                 \u001b[1;32mbreak\u001b[0m\u001b[1;33m\u001b[0m\u001b[0m\n",
      "\u001b[1;31mIndexError\u001b[0m: tuple index out of range"
     ]
    }
   ],
   "source": [
    "import numpy as np\n",
    "a = np.random.normal(size=(4, 42, 1024))\n",
    "a = np.transpose(a, (0,2,1))\n",
    "b = np.random.normal(size=(42, 1024))\n",
    "r = np.tensordot(a, b, [3, 0])\n",
    "print(r.shape)"
   ]
  },
  {
   "cell_type": "code",
   "execution_count": null,
   "metadata": {},
   "outputs": [],
   "source": []
  }
 ],
 "metadata": {
  "kernelspec": {
   "display_name": "Python 3",
   "language": "python",
   "name": "python3"
  },
  "language_info": {
   "codemirror_mode": {
    "name": "ipython",
    "version": 3
   },
   "file_extension": ".py",
   "mimetype": "text/x-python",
   "name": "python",
   "nbconvert_exporter": "python",
   "pygments_lexer": "ipython3",
   "version": "3.6.5"
  }
 },
 "nbformat": 4,
 "nbformat_minor": 2
}
