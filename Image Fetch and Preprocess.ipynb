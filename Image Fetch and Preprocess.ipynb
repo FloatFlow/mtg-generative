{
 "cells": [
  {
   "cell_type": "code",
   "execution_count": 6,
   "metadata": {},
   "outputs": [],
   "source": [
    "import pandas as pd\n",
    "import numpy as np\n",
    "import requests\n",
    "import json\n",
    "from tqdm import tqdm, tqdm_notebook\n",
    "import os\n",
    "import time\n",
    "import glob\n",
    "import shutil\n",
    "import os\n",
    "import random\n",
    "from PIL import Image\n",
    "import cv2\n",
    "import PythonMagick"
   ]
  },
  {
   "cell_type": "code",
   "execution_count": 9,
   "metadata": {},
   "outputs": [
    {
     "data": {
      "text/html": [
       "<div>\n",
       "<style scoped>\n",
       "    .dataframe tbody tr th:only-of-type {\n",
       "        vertical-align: middle;\n",
       "    }\n",
       "\n",
       "    .dataframe tbody tr th {\n",
       "        vertical-align: top;\n",
       "    }\n",
       "\n",
       "    .dataframe thead th {\n",
       "        text-align: right;\n",
       "    }\n",
       "</style>\n",
       "<table border=\"1\" class=\"dataframe\">\n",
       "  <thead>\n",
       "    <tr style=\"text-align: right;\">\n",
       "      <th></th>\n",
       "      <th>all_parts</th>\n",
       "      <th>arena_id</th>\n",
       "      <th>artist</th>\n",
       "      <th>artist_ids</th>\n",
       "      <th>booster</th>\n",
       "      <th>border_color</th>\n",
       "      <th>card_back_id</th>\n",
       "      <th>card_faces</th>\n",
       "      <th>cmc</th>\n",
       "      <th>collector_number</th>\n",
       "      <th>...</th>\n",
       "      <th>set_type</th>\n",
       "      <th>set_uri</th>\n",
       "      <th>story_spotlight</th>\n",
       "      <th>tcgplayer_id</th>\n",
       "      <th>textless</th>\n",
       "      <th>toughness</th>\n",
       "      <th>type_line</th>\n",
       "      <th>uri</th>\n",
       "      <th>variation</th>\n",
       "      <th>watermark</th>\n",
       "    </tr>\n",
       "  </thead>\n",
       "  <tbody>\n",
       "    <tr>\n",
       "      <th>0</th>\n",
       "      <td>NaN</td>\n",
       "      <td>NaN</td>\n",
       "      <td>Terese Nielsen</td>\n",
       "      <td>[eb55171c-2342-45f4-a503-2d5a75baf752]</td>\n",
       "      <td>True</td>\n",
       "      <td>white</td>\n",
       "      <td>0aeebaf5-8c7d-4636-9e82-8c27447861f7</td>\n",
       "      <td>NaN</td>\n",
       "      <td>3.0</td>\n",
       "      <td>319</td>\n",
       "      <td>...</td>\n",
       "      <td>core</td>\n",
       "      <td>https://api.scryfall.com/sets/230f38aa-9511-4d...</td>\n",
       "      <td>False</td>\n",
       "      <td>3094.0</td>\n",
       "      <td>False</td>\n",
       "      <td>NaN</td>\n",
       "      <td>Artifact</td>\n",
       "      <td>https://api.scryfall.com/cards/86bf43b1-8d4e-4...</td>\n",
       "      <td>False</td>\n",
       "      <td>NaN</td>\n",
       "    </tr>\n",
       "    <tr>\n",
       "      <th>1</th>\n",
       "      <td>NaN</td>\n",
       "      <td>NaN</td>\n",
       "      <td>Steven Belledin</td>\n",
       "      <td>[f07d73b9-52a0-4fe5-858b-61f7b42174a5]</td>\n",
       "      <td>True</td>\n",
       "      <td>black</td>\n",
       "      <td>0aeebaf5-8c7d-4636-9e82-8c27447861f7</td>\n",
       "      <td>NaN</td>\n",
       "      <td>1.0</td>\n",
       "      <td>71</td>\n",
       "      <td>...</td>\n",
       "      <td>core</td>\n",
       "      <td>https://api.scryfall.com/sets/e03ee1c0-ecd2-4f...</td>\n",
       "      <td>False</td>\n",
       "      <td>69965.0</td>\n",
       "      <td>False</td>\n",
       "      <td>NaN</td>\n",
       "      <td>Enchantment â€” Aura</td>\n",
       "      <td>https://api.scryfall.com/cards/7050735c-b232-4...</td>\n",
       "      <td>False</td>\n",
       "      <td>NaN</td>\n",
       "    </tr>\n",
       "    <tr>\n",
       "      <th>2</th>\n",
       "      <td>NaN</td>\n",
       "      <td>NaN</td>\n",
       "      <td>Jonas De Ro</td>\n",
       "      <td>[561ebf9e-8d93-4b57-8156-8826d0c19601]</td>\n",
       "      <td>False</td>\n",
       "      <td>black</td>\n",
       "      <td>0aeebaf5-8c7d-4636-9e82-8c27447861f7</td>\n",
       "      <td>NaN</td>\n",
       "      <td>2.0</td>\n",
       "      <td>34</td>\n",
       "      <td>...</td>\n",
       "      <td>commander</td>\n",
       "      <td>https://api.scryfall.com/sets/0fa3ccbb-d86d-4a...</td>\n",
       "      <td>False</td>\n",
       "      <td>196536.0</td>\n",
       "      <td>False</td>\n",
       "      <td>NaN</td>\n",
       "      <td>Sorcery</td>\n",
       "      <td>https://api.scryfall.com/cards/e718b21b-46d1-4...</td>\n",
       "      <td>False</td>\n",
       "      <td>NaN</td>\n",
       "    </tr>\n",
       "    <tr>\n",
       "      <th>3</th>\n",
       "      <td>NaN</td>\n",
       "      <td>NaN</td>\n",
       "      <td>John Matson</td>\n",
       "      <td>[a1685587-4b55-446b-b420-c37b202ed3f1]</td>\n",
       "      <td>True</td>\n",
       "      <td>white</td>\n",
       "      <td>0aeebaf5-8c7d-4636-9e82-8c27447861f7</td>\n",
       "      <td>NaN</td>\n",
       "      <td>2.0</td>\n",
       "      <td>100</td>\n",
       "      <td>...</td>\n",
       "      <td>core</td>\n",
       "      <td>https://api.scryfall.com/sets/e70c8572-4732-4e...</td>\n",
       "      <td>False</td>\n",
       "      <td>12835.0</td>\n",
       "      <td>False</td>\n",
       "      <td>2</td>\n",
       "      <td>Creature â€” Bird</td>\n",
       "      <td>https://api.scryfall.com/cards/036ef8c9-72ac-4...</td>\n",
       "      <td>False</td>\n",
       "      <td>NaN</td>\n",
       "    </tr>\n",
       "    <tr>\n",
       "      <th>4</th>\n",
       "      <td>NaN</td>\n",
       "      <td>NaN</td>\n",
       "      <td>Ron Spencer</td>\n",
       "      <td>[dab52c11-0564-4207-a4a1-c1735c946a65]</td>\n",
       "      <td>True</td>\n",
       "      <td>black</td>\n",
       "      <td>0aeebaf5-8c7d-4636-9e82-8c27447861f7</td>\n",
       "      <td>NaN</td>\n",
       "      <td>2.0</td>\n",
       "      <td>47</td>\n",
       "      <td>...</td>\n",
       "      <td>expansion</td>\n",
       "      <td>https://api.scryfall.com/sets/78ced61b-4b8a-4b...</td>\n",
       "      <td>False</td>\n",
       "      <td>6412.0</td>\n",
       "      <td>False</td>\n",
       "      <td>1</td>\n",
       "      <td>Creature â€” Sponge</td>\n",
       "      <td>https://api.scryfall.com/cards/b125d1e7-5d9b-4...</td>\n",
       "      <td>False</td>\n",
       "      <td>NaN</td>\n",
       "    </tr>\n",
       "  </tbody>\n",
       "</table>\n",
       "<p>5 rows × 70 columns</p>\n",
       "</div>"
      ],
      "text/plain": [
       "  all_parts  arena_id           artist  \\\n",
       "0       NaN       NaN   Terese Nielsen   \n",
       "1       NaN       NaN  Steven Belledin   \n",
       "2       NaN       NaN      Jonas De Ro   \n",
       "3       NaN       NaN      John Matson   \n",
       "4       NaN       NaN      Ron Spencer   \n",
       "\n",
       "                               artist_ids  booster border_color  \\\n",
       "0  [eb55171c-2342-45f4-a503-2d5a75baf752]     True        white   \n",
       "1  [f07d73b9-52a0-4fe5-858b-61f7b42174a5]     True        black   \n",
       "2  [561ebf9e-8d93-4b57-8156-8826d0c19601]    False        black   \n",
       "3  [a1685587-4b55-446b-b420-c37b202ed3f1]     True        white   \n",
       "4  [dab52c11-0564-4207-a4a1-c1735c946a65]     True        black   \n",
       "\n",
       "                           card_back_id card_faces  cmc collector_number  \\\n",
       "0  0aeebaf5-8c7d-4636-9e82-8c27447861f7        NaN  3.0              319   \n",
       "1  0aeebaf5-8c7d-4636-9e82-8c27447861f7        NaN  1.0               71   \n",
       "2  0aeebaf5-8c7d-4636-9e82-8c27447861f7        NaN  2.0               34   \n",
       "3  0aeebaf5-8c7d-4636-9e82-8c27447861f7        NaN  2.0              100   \n",
       "4  0aeebaf5-8c7d-4636-9e82-8c27447861f7        NaN  2.0               47   \n",
       "\n",
       "     ...      set_type                                            set_uri  \\\n",
       "0    ...          core  https://api.scryfall.com/sets/230f38aa-9511-4d...   \n",
       "1    ...          core  https://api.scryfall.com/sets/e03ee1c0-ecd2-4f...   \n",
       "2    ...     commander  https://api.scryfall.com/sets/0fa3ccbb-d86d-4a...   \n",
       "3    ...          core  https://api.scryfall.com/sets/e70c8572-4732-4e...   \n",
       "4    ...     expansion  https://api.scryfall.com/sets/78ced61b-4b8a-4b...   \n",
       "\n",
       "  story_spotlight  tcgplayer_id  textless toughness             type_line  \\\n",
       "0           False        3094.0     False       NaN              Artifact   \n",
       "1           False       69965.0     False       NaN  Enchantment â€” Aura   \n",
       "2           False      196536.0     False       NaN               Sorcery   \n",
       "3           False       12835.0     False         2     Creature â€” Bird   \n",
       "4           False        6412.0     False         1   Creature â€” Sponge   \n",
       "\n",
       "                                                 uri variation watermark  \n",
       "0  https://api.scryfall.com/cards/86bf43b1-8d4e-4...     False       NaN  \n",
       "1  https://api.scryfall.com/cards/7050735c-b232-4...     False       NaN  \n",
       "2  https://api.scryfall.com/cards/e718b21b-46d1-4...     False       NaN  \n",
       "3  https://api.scryfall.com/cards/036ef8c9-72ac-4...     False       NaN  \n",
       "4  https://api.scryfall.com/cards/b125d1e7-5d9b-4...     False       NaN  \n",
       "\n",
       "[5 rows x 70 columns]"
      ]
     },
     "execution_count": 9,
     "metadata": {},
     "output_type": "execute_result"
    }
   ],
   "source": [
    "df = pd.read_json('data/oracle-cards-20200531050621.json')\n",
    "df.head()"
   ]
  },
  {
   "cell_type": "code",
   "execution_count": 10,
   "metadata": {},
   "outputs": [
    {
     "name": "stdout",
     "output_type": "stream",
     "text": [
      "(21370, 70)\n"
     ]
    }
   ],
   "source": [
    "print(df.shape)\n",
    "#df.drop_duplicates(subset='oracle_id', inplace=True)\n",
    "#print(df.shape)"
   ]
  },
  {
   "cell_type": "code",
   "execution_count": 11,
   "metadata": {},
   "outputs": [
    {
     "name": "stdout",
     "output_type": "stream",
     "text": [
      "Index(['all_parts', 'arena_id', 'artist', 'artist_ids', 'booster',\n",
      "       'border_color', 'card_back_id', 'card_faces', 'cmc', 'collector_number',\n",
      "       'color_identity', 'color_indicator', 'colors', 'digital', 'edhrec_rank',\n",
      "       'flavor_name', 'flavor_text', 'foil', 'frame', 'frame_effects',\n",
      "       'full_art', 'games', 'hand_modifier', 'highres_image', 'id',\n",
      "       'illustration_id', 'image_uris', 'lang', 'layout', 'legalities',\n",
      "       'life_modifier', 'loyalty', 'mana_cost', 'mtgo_foil_id', 'mtgo_id',\n",
      "       'multiverse_ids', 'name', 'nonfoil', 'object', 'oracle_id',\n",
      "       'oracle_text', 'oversized', 'power', 'preview', 'prices',\n",
      "       'printed_name', 'prints_search_uri', 'promo', 'promo_types', 'rarity',\n",
      "       'related_uris', 'released_at', 'reprint', 'reserved', 'rulings_uri',\n",
      "       'scryfall_set_uri', 'scryfall_uri', 'set', 'set_name', 'set_search_uri',\n",
      "       'set_type', 'set_uri', 'story_spotlight', 'tcgplayer_id', 'textless',\n",
      "       'toughness', 'type_line', 'uri', 'variation', 'watermark'],\n",
      "      dtype='object')\n"
     ]
    }
   ],
   "source": [
    "print(df.columns)"
   ]
  },
  {
   "cell_type": "code",
   "execution_count": 12,
   "metadata": {},
   "outputs": [
    {
     "name": "stdout",
     "output_type": "stream",
     "text": [
      "21370\n",
      "21370\n",
      "['https://img.scryfall.com/cards/art_crop/front/8/6/86bf43b1-8d4e-4759-bb2d-0b2e03ba7012.jpg?1562242171', 'https://img.scryfall.com/cards/art_crop/front/7/0/7050735c-b232-47a6-a342-01795bfd0d46.jpg?1562830795', 'https://img.scryfall.com/cards/art_crop/front/e/7/e718b21b-46d1-4844-985c-52745657b1ac.jpg?1568003608', 'https://img.scryfall.com/cards/art_crop/front/0/3/036ef8c9-72ac-46ce-af07-83b79d736538.jpg?1562730661', 'https://img.scryfall.com/cards/art_crop/front/b/1/b125d1e7-5d9b-4997-88b0-71bdfc19c6f2.jpg?1562863790', 'https://img.scryfall.com/cards/art_crop/front/e/0/e0f83824-43c6-4101-88fd-9109958b23e2.jpg?1557576051', 'https://img.scryfall.com/cards/art_crop/front/f/e/feeee859-f64a-4cd8-be0b-ad60cff8812e.jpg?1562537400', 'https://img.scryfall.com/cards/art_crop/front/3/c/3c97d419-6fee-4a32-9e64-8a827da59934.jpg?1559592454', 'https://img.scryfall.com/cards/art_crop/front/2/8/280f2a85-1900-460b-a768-164fc2dea636.jpg?1584830293', 'https://img.scryfall.com/cards/art_crop/front/5/c/5c0a4e6e-cc4e-43d5-aece-f009e117366a.jpg?1562911994']\n"
     ]
    }
   ],
   "source": [
    "url_list = [jsd for jsd in df['image_uris'].values]\n",
    "#print(url_list[0])\n",
    "http_list = []\n",
    "for url in url_list:\n",
    "    try:\n",
    "        http_list.append(url.get('art_crop'))\n",
    "    except:\n",
    "        http_list.append(np.nan)\n",
    "print(len(url_list))\n",
    "print(len(http_list))\n",
    "print(http_list[:10])"
   ]
  },
  {
   "cell_type": "code",
   "execution_count": 13,
   "metadata": {},
   "outputs": [
    {
     "name": "stderr",
     "output_type": "stream",
     "text": [
      "C:\\Users\\Wolfgang\\Anaconda3\\lib\\site-packages\\ipykernel_launcher.py:2: SettingWithCopyWarning: \n",
      "A value is trying to be set on a copy of a slice from a DataFrame.\n",
      "Try using .loc[row_indexer,col_indexer] = value instead\n",
      "\n",
      "See the caveats in the documentation: http://pandas.pydata.org/pandas-docs/stable/indexing.html#indexing-view-versus-copy\n",
      "  \n",
      "C:\\Users\\Wolfgang\\Anaconda3\\lib\\site-packages\\ipykernel_launcher.py:3: SettingWithCopyWarning: \n",
      "A value is trying to be set on a copy of a slice from a DataFrame\n",
      "\n",
      "See the caveats in the documentation: http://pandas.pydata.org/pandas-docs/stable/indexing.html#indexing-view-versus-copy\n",
      "  This is separate from the ipykernel package so we can avoid doing imports until\n",
      "C:\\Users\\Wolfgang\\Anaconda3\\lib\\site-packages\\ipykernel_launcher.py:4: SettingWithCopyWarning: \n",
      "A value is trying to be set on a copy of a slice from a DataFrame.\n",
      "Try using .loc[row_indexer,col_indexer] = value instead\n",
      "\n",
      "See the caveats in the documentation: http://pandas.pydata.org/pandas-docs/stable/indexing.html#indexing-view-versus-copy\n",
      "  after removing the cwd from sys.path.\n"
     ]
    },
    {
     "name": "stdout",
     "output_type": "stream",
     "text": [
      "(21177, 4)\n"
     ]
    },
    {
     "data": {
      "text/html": [
       "<div>\n",
       "<style scoped>\n",
       "    .dataframe tbody tr th:only-of-type {\n",
       "        vertical-align: middle;\n",
       "    }\n",
       "\n",
       "    .dataframe tbody tr th {\n",
       "        vertical-align: top;\n",
       "    }\n",
       "\n",
       "    .dataframe thead th {\n",
       "        text-align: right;\n",
       "    }\n",
       "</style>\n",
       "<table border=\"1\" class=\"dataframe\">\n",
       "  <thead>\n",
       "    <tr style=\"text-align: right;\">\n",
       "      <th></th>\n",
       "      <th>color_identity</th>\n",
       "      <th>oracle_id</th>\n",
       "      <th>url</th>\n",
       "      <th>id</th>\n",
       "    </tr>\n",
       "  </thead>\n",
       "  <tbody>\n",
       "    <tr>\n",
       "      <th>21365</th>\n",
       "      <td>[W]</td>\n",
       "      <td>fff6f2d0-22b5-41d0-99dc-bc817c3bd166</td>\n",
       "      <td>https://img.scryfall.com/cards/art_crop/front/...</td>\n",
       "      <td>1562875264</td>\n",
       "    </tr>\n",
       "    <tr>\n",
       "      <th>21366</th>\n",
       "      <td>[B]</td>\n",
       "      <td>fffa9334-3576-4f70-9605-2ad062cdbc69</td>\n",
       "      <td>https://img.scryfall.com/cards/art_crop/front/...</td>\n",
       "      <td>1562816474</td>\n",
       "    </tr>\n",
       "    <tr>\n",
       "      <th>21367</th>\n",
       "      <td>[R, W]</td>\n",
       "      <td>fffaa634-42a0-4038-b027-24f28754fec7</td>\n",
       "      <td>https://img.scryfall.com/cards/art_crop/front/...</td>\n",
       "      <td>1562253988</td>\n",
       "    </tr>\n",
       "    <tr>\n",
       "      <th>21368</th>\n",
       "      <td>[G, R]</td>\n",
       "      <td>fffdc2ac-bde4-4e4c-a5bd-0e6c6e49ad91</td>\n",
       "      <td>https://img.scryfall.com/cards/art_crop/front/...</td>\n",
       "      <td>1562788629</td>\n",
       "    </tr>\n",
       "    <tr>\n",
       "      <th>21369</th>\n",
       "      <td>[W]</td>\n",
       "      <td>ffff90c3-63c4-4dee-a21d-6b2b113f4f80</td>\n",
       "      <td>https://img.scryfall.com/cards/art_crop/front/...</td>\n",
       "      <td>1562573847</td>\n",
       "    </tr>\n",
       "  </tbody>\n",
       "</table>\n",
       "</div>"
      ],
      "text/plain": [
       "      color_identity                             oracle_id  \\\n",
       "21365            [W]  fff6f2d0-22b5-41d0-99dc-bc817c3bd166   \n",
       "21366            [B]  fffa9334-3576-4f70-9605-2ad062cdbc69   \n",
       "21367         [R, W]  fffaa634-42a0-4038-b027-24f28754fec7   \n",
       "21368         [G, R]  fffdc2ac-bde4-4e4c-a5bd-0e6c6e49ad91   \n",
       "21369            [W]  ffff90c3-63c4-4dee-a21d-6b2b113f4f80   \n",
       "\n",
       "                                                     url          id  \n",
       "21365  https://img.scryfall.com/cards/art_crop/front/...  1562875264  \n",
       "21366  https://img.scryfall.com/cards/art_crop/front/...  1562816474  \n",
       "21367  https://img.scryfall.com/cards/art_crop/front/...  1562253988  \n",
       "21368  https://img.scryfall.com/cards/art_crop/front/...  1562788629  \n",
       "21369  https://img.scryfall.com/cards/art_crop/front/...  1562573847  "
      ]
     },
     "execution_count": 13,
     "metadata": {},
     "output_type": "execute_result"
    }
   ],
   "source": [
    "query_df = df[['color_identity', 'oracle_id']]\n",
    "query_df['url'] = http_list\n",
    "query_df.dropna(inplace=True)\n",
    "query_df['id'] = [str(image_url.split('?')[-1]) for image_url in query_df['url']]\n",
    "print(query_df.shape)\n",
    "query_df.tail()"
   ]
  },
  {
   "cell_type": "code",
   "execution_count": 14,
   "metadata": {},
   "outputs": [
    {
     "name": "stdout",
     "output_type": "stream",
     "text": [
      "https://img.scryfall.com/cards/art_crop/front/c/f/cf7f2954-65f6-4944-ae68-8992cb0268f4.jpg?1562936706\n"
     ]
    }
   ],
   "source": [
    "print(query_df['url'].iloc[2000])"
   ]
  },
  {
   "cell_type": "code",
   "execution_count": 15,
   "metadata": {},
   "outputs": [
    {
     "name": "stdout",
     "output_type": "stream",
     "text": [
      "Series([], Name: url, dtype: object)\n"
     ]
    }
   ],
   "source": [
    "print(query_df['url'].loc[query_df['id'] == '1551144270'])"
   ]
  },
  {
   "cell_type": "code",
   "execution_count": 16,
   "metadata": {},
   "outputs": [
    {
     "name": "stderr",
     "output_type": "stream",
     "text": [
      "C:\\Users\\Wolfgang\\Anaconda3\\lib\\site-packages\\ipykernel_launcher.py:1: SettingWithCopyWarning: \n",
      "A value is trying to be set on a copy of a slice from a DataFrame.\n",
      "Try using .loc[row_indexer,col_indexer] = value instead\n",
      "\n",
      "See the caveats in the documentation: http://pandas.pydata.org/pandas-docs/stable/indexing.html#indexing-view-versus-copy\n",
      "  \"\"\"Entry point for launching an IPython kernel.\n"
     ]
    },
    {
     "name": "stdout",
     "output_type": "stream",
     "text": [
      "(21177, 5)\n"
     ]
    },
    {
     "data": {
      "text/html": [
       "<div>\n",
       "<style scoped>\n",
       "    .dataframe tbody tr th:only-of-type {\n",
       "        vertical-align: middle;\n",
       "    }\n",
       "\n",
       "    .dataframe tbody tr th {\n",
       "        vertical-align: top;\n",
       "    }\n",
       "\n",
       "    .dataframe thead th {\n",
       "        text-align: right;\n",
       "    }\n",
       "</style>\n",
       "<table border=\"1\" class=\"dataframe\">\n",
       "  <thead>\n",
       "    <tr style=\"text-align: right;\">\n",
       "      <th></th>\n",
       "      <th>color_identity</th>\n",
       "      <th>oracle_id</th>\n",
       "      <th>url</th>\n",
       "      <th>id</th>\n",
       "      <th>filename</th>\n",
       "    </tr>\n",
       "  </thead>\n",
       "  <tbody>\n",
       "    <tr>\n",
       "      <th>0</th>\n",
       "      <td>[]</td>\n",
       "      <td>0004ebd0-dfd6-4276-b4a6-de0003e94237</td>\n",
       "      <td>https://img.scryfall.com/cards/art_crop/front/...</td>\n",
       "      <td>1562242171</td>\n",
       "      <td>0004ebd0-dfd6-4276-b4a6-de0003e94237_156224217...</td>\n",
       "    </tr>\n",
       "    <tr>\n",
       "      <th>1</th>\n",
       "      <td>[U]</td>\n",
       "      <td>0006faf6-7a61-426c-9034-579f2cfcfa83</td>\n",
       "      <td>https://img.scryfall.com/cards/art_crop/front/...</td>\n",
       "      <td>1562830795</td>\n",
       "      <td>0006faf6-7a61-426c-9034-579f2cfcfa83_156283079...</td>\n",
       "    </tr>\n",
       "    <tr>\n",
       "      <th>2</th>\n",
       "      <td>[G]</td>\n",
       "      <td>0007c283-5b7a-4c00-9ca1-b455c8dff8c3</td>\n",
       "      <td>https://img.scryfall.com/cards/art_crop/front/...</td>\n",
       "      <td>1568003608</td>\n",
       "      <td>0007c283-5b7a-4c00-9ca1-b455c8dff8c3_156800360...</td>\n",
       "    </tr>\n",
       "    <tr>\n",
       "      <th>3</th>\n",
       "      <td>[U]</td>\n",
       "      <td>000d5588-5a4c-434e-988d-396632ade42c</td>\n",
       "      <td>https://img.scryfall.com/cards/art_crop/front/...</td>\n",
       "      <td>1562730661</td>\n",
       "      <td>000d5588-5a4c-434e-988d-396632ade42c_156273066...</td>\n",
       "    </tr>\n",
       "    <tr>\n",
       "      <th>4</th>\n",
       "      <td>[U]</td>\n",
       "      <td>000e5d65-96c3-498b-bd01-72b1a1991850</td>\n",
       "      <td>https://img.scryfall.com/cards/art_crop/front/...</td>\n",
       "      <td>1562863790</td>\n",
       "      <td>000e5d65-96c3-498b-bd01-72b1a1991850_156286379...</td>\n",
       "    </tr>\n",
       "  </tbody>\n",
       "</table>\n",
       "</div>"
      ],
      "text/plain": [
       "  color_identity                             oracle_id  \\\n",
       "0             []  0004ebd0-dfd6-4276-b4a6-de0003e94237   \n",
       "1            [U]  0006faf6-7a61-426c-9034-579f2cfcfa83   \n",
       "2            [G]  0007c283-5b7a-4c00-9ca1-b455c8dff8c3   \n",
       "3            [U]  000d5588-5a4c-434e-988d-396632ade42c   \n",
       "4            [U]  000e5d65-96c3-498b-bd01-72b1a1991850   \n",
       "\n",
       "                                                 url          id  \\\n",
       "0  https://img.scryfall.com/cards/art_crop/front/...  1562242171   \n",
       "1  https://img.scryfall.com/cards/art_crop/front/...  1562830795   \n",
       "2  https://img.scryfall.com/cards/art_crop/front/...  1568003608   \n",
       "3  https://img.scryfall.com/cards/art_crop/front/...  1562730661   \n",
       "4  https://img.scryfall.com/cards/art_crop/front/...  1562863790   \n",
       "\n",
       "                                            filename  \n",
       "0  0004ebd0-dfd6-4276-b4a6-de0003e94237_156224217...  \n",
       "1  0006faf6-7a61-426c-9034-579f2cfcfa83_156283079...  \n",
       "2  0007c283-5b7a-4c00-9ca1-b455c8dff8c3_156800360...  \n",
       "3  000d5588-5a4c-434e-988d-396632ade42c_156273066...  \n",
       "4  000e5d65-96c3-498b-bd01-72b1a1991850_156286379...  "
      ]
     },
     "execution_count": 16,
     "metadata": {},
     "output_type": "execute_result"
    }
   ],
   "source": [
    "query_df['filename'] = ['{}_{}_{}.jpg'.format(str(orid), str(cardid), color) for orid, cardid, color in zip(query_df['oracle_id'], query_df['id'], query_df['color_identity'])]\n",
    "\n",
    "'''\n",
    "print(query_df.head())\n",
    "current_files = os.listdir('images')\n",
    "print(current_files[:10])\n",
    "query_df = query_df.loc[query_df['filename'].isin(current_files)]\n",
    "'''\n",
    "print(query_df.shape)\n",
    "query_df.head()"
   ]
  },
  {
   "cell_type": "code",
   "execution_count": 17,
   "metadata": {},
   "outputs": [
    {
     "name": "stdout",
     "output_type": "stream",
     "text": [
      "21177\n"
     ]
    }
   ],
   "source": [
    "print(len(list(set(query_df['oracle_id']))))"
   ]
  },
  {
   "cell_type": "code",
   "execution_count": 18,
   "metadata": {},
   "outputs": [
    {
     "name": "stderr",
     "output_type": "stream",
     "text": [
      "C:\\Users\\Wolfgang\\Anaconda3\\lib\\site-packages\\ipykernel_launcher.py:1: SettingWithCopyWarning: \n",
      "A value is trying to be set on a copy of a slice from a DataFrame.\n",
      "Try using .loc[row_indexer,col_indexer] = value instead\n",
      "\n",
      "See the caveats in the documentation: http://pandas.pydata.org/pandas-docs/stable/indexing.html#indexing-view-versus-copy\n",
      "  \"\"\"Entry point for launching an IPython kernel.\n"
     ]
    },
    {
     "data": {
      "text/html": [
       "<div>\n",
       "<style scoped>\n",
       "    .dataframe tbody tr th:only-of-type {\n",
       "        vertical-align: middle;\n",
       "    }\n",
       "\n",
       "    .dataframe tbody tr th {\n",
       "        vertical-align: top;\n",
       "    }\n",
       "\n",
       "    .dataframe thead th {\n",
       "        text-align: right;\n",
       "    }\n",
       "</style>\n",
       "<table border=\"1\" class=\"dataframe\">\n",
       "  <thead>\n",
       "    <tr style=\"text-align: right;\">\n",
       "      <th></th>\n",
       "      <th>id</th>\n",
       "      <th>counter</th>\n",
       "    </tr>\n",
       "  </thead>\n",
       "  <tbody>\n",
       "    <tr>\n",
       "      <th>15308</th>\n",
       "      <td>1562942414</td>\n",
       "      <td>3</td>\n",
       "    </tr>\n",
       "    <tr>\n",
       "      <th>18741</th>\n",
       "      <td>1576381808</td>\n",
       "      <td>3</td>\n",
       "    </tr>\n",
       "    <tr>\n",
       "      <th>6913</th>\n",
       "      <td>1562629522</td>\n",
       "      <td>2</td>\n",
       "    </tr>\n",
       "    <tr>\n",
       "      <th>12185</th>\n",
       "      <td>1562900088</td>\n",
       "      <td>2</td>\n",
       "    </tr>\n",
       "    <tr>\n",
       "      <th>13516</th>\n",
       "      <td>1562918634</td>\n",
       "      <td>2</td>\n",
       "    </tr>\n",
       "  </tbody>\n",
       "</table>\n",
       "</div>"
      ],
      "text/plain": [
       "               id  counter\n",
       "15308  1562942414        3\n",
       "18741  1576381808        3\n",
       "6913   1562629522        2\n",
       "12185  1562900088        2\n",
       "13516  1562918634        2"
      ]
     },
     "execution_count": 18,
     "metadata": {},
     "output_type": "execute_result"
    }
   ],
   "source": [
    "query_df['counter'] = 1\n",
    "id_df = query_df['counter'].groupby(query_df['id']).sum().reset_index()\n",
    "id_df.sort_values('counter', ascending=False,inplace=True)\n",
    "id_df.head()"
   ]
  },
  {
   "cell_type": "code",
   "execution_count": 19,
   "metadata": {},
   "outputs": [
    {
     "data": {
      "text/plain": [
       "Series([], Name: url, dtype: object)"
      ]
     },
     "execution_count": 19,
     "metadata": {},
     "output_type": "execute_result"
    }
   ],
   "source": [
    "query_df['url'].loc[query_df['id'] == '1530592568']"
   ]
  },
  {
   "cell_type": "code",
   "execution_count": 21,
   "metadata": {},
   "outputs": [
    {
     "data": {
      "application/vnd.jupyter.widget-view+json": {
       "model_id": "f63792f2ff3940f6ae0c6e8ed3378a51",
       "version_major": 2,
       "version_minor": 0
      },
      "text/plain": [
       "HBox(children=(IntProgress(value=0, max=21177), HTML(value='')))"
      ]
     },
     "metadata": {},
     "output_type": "display_data"
    }
   ],
   "source": [
    "dir_location = 'data/images'\n",
    "\n",
    "\n",
    "pbar = tqdm_notebook(total=len(query_df['url'].values))\n",
    "for i, image_url in enumerate(query_df['url'].values):\n",
    "    if i >= 0: # incase we get booted we can restart from last image index\n",
    "        img_data = requests.get(image_url).content\n",
    "        filename = image_url.split('?')[-1]\n",
    "        color = query_df['color_identity'].iloc[i]\n",
    "        with open(os.path.join(dir_location, query_df['filename'].iloc[i]), 'wb') as handler:\n",
    "            handler.write(img_data)\n",
    "        time.sleep(0.1)\n",
    "    pbar.update()\n",
    "pbar.close()"
   ]
  },
  {
   "cell_type": "code",
   "execution_count": 129,
   "metadata": {},
   "outputs": [
    {
     "name": "stderr",
     "output_type": "stream",
     "text": [
      "\n",
      "\n",
      "\n",
      "\n",
      "\n",
      "\n",
      "\n",
      "\n",
      "\n",
      "\n",
      "\n",
      "\n",
      "  1%|          | 2212/186898 [02:01<2:30:49, 20.41it/s]"
     ]
    },
    {
     "name": "stdout",
     "output_type": "stream",
     "text": [
      "On File 0/186899:\n"
     ]
    },
    {
     "data": {
      "application/vnd.jupyter.widget-view+json": {
       "model_id": "f089f1088db34a039393d95a8b3bba6b",
       "version_major": 2,
       "version_minor": 0
      },
      "text/plain": [
       "HBox(children=(IntProgress(value=0, max=186898), HTML(value='')))"
      ]
     },
     "metadata": {},
     "output_type": "display_data"
    },
    {
     "ename": "KeyboardInterrupt",
     "evalue": "",
     "output_type": "error",
     "traceback": [
      "\u001b[1;31m---------------------------------------------------------------------------\u001b[0m",
      "\u001b[1;31mKeyboardInterrupt\u001b[0m                         Traceback (most recent call last)",
      "\u001b[1;32m<ipython-input-129-5222d1f2bb77>\u001b[0m in \u001b[0;36m<module>\u001b[1;34m()\u001b[0m\n\u001b[0;32m     16\u001b[0m     \u001b[0mpbar\u001b[0m \u001b[1;33m=\u001b[0m \u001b[0mtqdm_notebook\u001b[0m\u001b[1;33m(\u001b[0m\u001b[0mtotal\u001b[0m\u001b[1;33m=\u001b[0m\u001b[0mlen\u001b[0m\u001b[1;33m(\u001b[0m\u001b[0mrange\u001b[0m\u001b[1;33m(\u001b[0m\u001b[0mi\u001b[0m\u001b[1;33m+\u001b[0m\u001b[1;36m1\u001b[0m\u001b[1;33m,\u001b[0m \u001b[0mlen\u001b[0m\u001b[1;33m(\u001b[0m\u001b[0mfilelist\u001b[0m\u001b[1;33m)\u001b[0m\u001b[1;33m)\u001b[0m\u001b[1;33m)\u001b[0m\u001b[1;33m)\u001b[0m\u001b[1;33m\u001b[0m\u001b[0m\n\u001b[0;32m     17\u001b[0m     \u001b[1;32mfor\u001b[0m \u001b[0mj\u001b[0m \u001b[1;32min\u001b[0m \u001b[0mrange\u001b[0m\u001b[1;33m(\u001b[0m\u001b[0mi\u001b[0m\u001b[1;33m+\u001b[0m\u001b[1;36m1\u001b[0m\u001b[1;33m,\u001b[0m \u001b[0mlen\u001b[0m\u001b[1;33m(\u001b[0m\u001b[0mfilelist\u001b[0m\u001b[1;33m)\u001b[0m\u001b[1;33m)\u001b[0m\u001b[1;33m:\u001b[0m\u001b[1;33m\u001b[0m\u001b[0m\n\u001b[1;32m---> 18\u001b[1;33m         \u001b[0mnext_file\u001b[0m \u001b[1;33m=\u001b[0m \u001b[0mPythonMagick\u001b[0m\u001b[1;33m.\u001b[0m\u001b[0mImage\u001b[0m\u001b[1;33m(\u001b[0m\u001b[0mfilelist\u001b[0m\u001b[1;33m[\u001b[0m\u001b[0mj\u001b[0m\u001b[1;33m]\u001b[0m\u001b[1;33m)\u001b[0m\u001b[1;33m.\u001b[0m\u001b[0msignature\u001b[0m\u001b[1;33m(\u001b[0m\u001b[1;33m)\u001b[0m\u001b[1;33m\u001b[0m\u001b[0m\n\u001b[0m\u001b[0;32m     19\u001b[0m         \u001b[1;31m#if is_similar(this_file, next_file):\u001b[0m\u001b[1;33m\u001b[0m\u001b[1;33m\u001b[0m\u001b[0m\n\u001b[0;32m     20\u001b[0m         \u001b[1;32mif\u001b[0m \u001b[0mthis_file\u001b[0m \u001b[1;33m==\u001b[0m \u001b[0mnext_file\u001b[0m\u001b[1;33m:\u001b[0m\u001b[1;33m\u001b[0m\u001b[0m\n",
      "\u001b[1;31mKeyboardInterrupt\u001b[0m: "
     ]
    }
   ],
   "source": [
    "## searches for duplicates in the training dataset ##\n",
    "## using raster hashes~~~~~~ ##\n",
    "\n",
    "train_dir = 'images'\n",
    "duplicate_img_dir= 'duplicate_images'\n",
    "\n",
    "def is_similar(image1, image2):\n",
    "    return image1.shape == image2.shape and not(np.bitwise_xor(image1,image2).any())\n",
    "\n",
    "filelist = os.listdir(train_dir)\n",
    "filelist = [os.path.join(train_dir, f) for f in filelist]\n",
    "\n",
    "for i, file in enumerate(filelist):\n",
    "    print('On File {}/{}:'.format(i, len(filelist)))\n",
    "    this_file = PythonMagick.Image(file).signature()\n",
    "    pbar = tqdm_notebook(total=len(range(i+1, len(filelist))))\n",
    "    for j in range(i+1, len(filelist)):\n",
    "        next_file = PythonMagick.Image(filelist[j]).signature()\n",
    "        #if is_similar(this_file, next_file):\n",
    "        if this_file == next_file:\n",
    "            print('Similar file found: {}'.format(filelist[j]))\n",
    "            try:\n",
    "                os.rename(filelist[j], os.path.join(duplicate_img_dir, os.path.basename(filelist[j])))\n",
    "                print('Removal success: {}'.format(filelist[j]))\n",
    "            except WindowsError:\n",
    "                print('Removal Failure: {}'.format(filelist[j]))\n",
    "                try:\n",
    "                    os.remove(filelist[j])\n",
    "                    print('Deletion success: {}'.format(filelist[j]))\n",
    "                except WindowsError:\n",
    "                    print('Error deleting {}'.format(filelist[j]))\n",
    "            j -= 1\n",
    "        pbar.update()\n",
    "    pbar.close()"
   ]
  },
  {
   "cell_type": "code",
   "execution_count": 3,
   "metadata": {},
   "outputs": [
    {
     "ename": "IndexError",
     "evalue": "tuple index out of range",
     "output_type": "error",
     "traceback": [
      "\u001b[1;31m---------------------------------------------------------------------------\u001b[0m",
      "\u001b[1;31mIndexError\u001b[0m                                Traceback (most recent call last)",
      "\u001b[1;32m<ipython-input-3-5c10233e6ec1>\u001b[0m in \u001b[0;36m<module>\u001b[1;34m()\u001b[0m\n\u001b[0;32m      3\u001b[0m \u001b[0ma\u001b[0m \u001b[1;33m=\u001b[0m \u001b[0mnp\u001b[0m\u001b[1;33m.\u001b[0m\u001b[0mtranspose\u001b[0m\u001b[1;33m(\u001b[0m\u001b[0ma\u001b[0m\u001b[1;33m,\u001b[0m \u001b[1;33m(\u001b[0m\u001b[1;36m0\u001b[0m\u001b[1;33m,\u001b[0m\u001b[1;36m2\u001b[0m\u001b[1;33m,\u001b[0m\u001b[1;36m1\u001b[0m\u001b[1;33m)\u001b[0m\u001b[1;33m)\u001b[0m\u001b[1;33m\u001b[0m\u001b[0m\n\u001b[0;32m      4\u001b[0m \u001b[0mb\u001b[0m \u001b[1;33m=\u001b[0m \u001b[0mnp\u001b[0m\u001b[1;33m.\u001b[0m\u001b[0mrandom\u001b[0m\u001b[1;33m.\u001b[0m\u001b[0mnormal\u001b[0m\u001b[1;33m(\u001b[0m\u001b[0msize\u001b[0m\u001b[1;33m=\u001b[0m\u001b[1;33m(\u001b[0m\u001b[1;36m42\u001b[0m\u001b[1;33m,\u001b[0m \u001b[1;36m1024\u001b[0m\u001b[1;33m)\u001b[0m\u001b[1;33m)\u001b[0m\u001b[1;33m\u001b[0m\u001b[0m\n\u001b[1;32m----> 5\u001b[1;33m \u001b[0mr\u001b[0m \u001b[1;33m=\u001b[0m \u001b[0mnp\u001b[0m\u001b[1;33m.\u001b[0m\u001b[0mtensordot\u001b[0m\u001b[1;33m(\u001b[0m\u001b[0ma\u001b[0m\u001b[1;33m,\u001b[0m \u001b[0mb\u001b[0m\u001b[1;33m,\u001b[0m \u001b[1;33m[\u001b[0m\u001b[1;36m3\u001b[0m\u001b[1;33m,\u001b[0m \u001b[1;36m0\u001b[0m\u001b[1;33m]\u001b[0m\u001b[1;33m)\u001b[0m\u001b[1;33m\u001b[0m\u001b[0m\n\u001b[0m\u001b[0;32m      6\u001b[0m \u001b[0mprint\u001b[0m\u001b[1;33m(\u001b[0m\u001b[0mr\u001b[0m\u001b[1;33m.\u001b[0m\u001b[0mshape\u001b[0m\u001b[1;33m)\u001b[0m\u001b[1;33m\u001b[0m\u001b[0m\n",
      "\u001b[1;32m~\\Anaconda3\\lib\\site-packages\\numpy\\core\\numeric.py\u001b[0m in \u001b[0;36mtensordot\u001b[1;34m(a, b, axes)\u001b[0m\n\u001b[0;32m   1361\u001b[0m     \u001b[1;32melse\u001b[0m\u001b[1;33m:\u001b[0m\u001b[1;33m\u001b[0m\u001b[0m\n\u001b[0;32m   1362\u001b[0m         \u001b[1;32mfor\u001b[0m \u001b[0mk\u001b[0m \u001b[1;32min\u001b[0m \u001b[0mrange\u001b[0m\u001b[1;33m(\u001b[0m\u001b[0mna\u001b[0m\u001b[1;33m)\u001b[0m\u001b[1;33m:\u001b[0m\u001b[1;33m\u001b[0m\u001b[0m\n\u001b[1;32m-> 1363\u001b[1;33m             \u001b[1;32mif\u001b[0m \u001b[0mas_\u001b[0m\u001b[1;33m[\u001b[0m\u001b[0maxes_a\u001b[0m\u001b[1;33m[\u001b[0m\u001b[0mk\u001b[0m\u001b[1;33m]\u001b[0m\u001b[1;33m]\u001b[0m \u001b[1;33m!=\u001b[0m \u001b[0mbs\u001b[0m\u001b[1;33m[\u001b[0m\u001b[0maxes_b\u001b[0m\u001b[1;33m[\u001b[0m\u001b[0mk\u001b[0m\u001b[1;33m]\u001b[0m\u001b[1;33m]\u001b[0m\u001b[1;33m:\u001b[0m\u001b[1;33m\u001b[0m\u001b[0m\n\u001b[0m\u001b[0;32m   1364\u001b[0m                 \u001b[0mequal\u001b[0m \u001b[1;33m=\u001b[0m \u001b[1;32mFalse\u001b[0m\u001b[1;33m\u001b[0m\u001b[0m\n\u001b[0;32m   1365\u001b[0m                 \u001b[1;32mbreak\u001b[0m\u001b[1;33m\u001b[0m\u001b[0m\n",
      "\u001b[1;31mIndexError\u001b[0m: tuple index out of range"
     ]
    }
   ],
   "source": [
    "import numpy as np\n",
    "a = np.random.normal(size=(4, 42, 1024))\n",
    "a = np.transpose(a, (0,2,1))\n",
    "b = np.random.normal(size=(42, 1024))\n",
    "r = np.tensordot(a, b, [3, 0])\n",
    "print(r.shape)"
   ]
  },
  {
   "cell_type": "code",
   "execution_count": null,
   "metadata": {},
   "outputs": [],
   "source": []
  }
 ],
 "metadata": {
  "kernelspec": {
   "display_name": "Python 3",
   "language": "python",
   "name": "python3"
  },
  "language_info": {
   "codemirror_mode": {
    "name": "ipython",
    "version": 3
   },
   "file_extension": ".py",
   "mimetype": "text/x-python",
   "name": "python",
   "nbconvert_exporter": "python",
   "pygments_lexer": "ipython3",
   "version": "3.6.5"
  }
 },
 "nbformat": 4,
 "nbformat_minor": 2
}
